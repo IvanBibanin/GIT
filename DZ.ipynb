{
 "cells": [
  {
   "cell_type": "code",
   "execution_count": 82,
   "id": "3cdb1d85-15ea-4798-897a-5348fe7d3cb1",
   "metadata": {},
   "outputs": [],
   "source": [
    "from pyspark.sql import SparkSession\n",
    "import pyspark.sql.functions as f\n",
    "from pyspark.sql.window import Window\n",
    "\n"
   ]
  },
  {
   "cell_type": "code",
   "execution_count": 37,
   "id": "b3ae80c5-ba47-4062-ac88-da46563a68a7",
   "metadata": {},
   "outputs": [],
   "source": [
    "df = spark.read.csv(\"s3a://my-bucket/covid-data.csv\", header=True,inferSchema=True )\n",
    "spark = SparkSession.builder \\\n",
    "    .master(\"spark://spark-master:7077\") \\\n",
    "    .config(\"spark.submit.deployMode\", \"client\") \\\n",
    "    .config(\"spark.driver.host\", \"jupyter\") \\\n",
    "    .appName(\"FixedSpark\") \\\n",
    "    .config(\"spark.jars.packages\",\n",
    "            \"org.apache.hadoop:hadoop-aws:3.3.4,com.amazonaws:aws-java-sdk-bundle:1.12.262\") \\\n",
    "    .getOrCreate()\n",
    "spark._jsc.hadoopConfiguration().set(\"fs.s3a.endpoint\", \"http://minio:9000\")\n",
    "spark._jsc.hadoopConfiguration().set(\"fs.s3a.access.key\", \"minio\")\n",
    "spark._jsc.hadoopConfiguration().set(\"fs.s3a.secret.key\", \"minio123\")\n",
    "spark._jsc.hadoopConfiguration().set(\"fs.s3a.path.style.access\", \"true\")\n",
    "spark._jsc.hadoopConfiguration().set(\"fs.s3a.impl\", \"org.apache.hadoop.fs.s3a.S3AFileSystem\")"
   ]
  },
  {
   "cell_type": "code",
   "execution_count": 38,
   "id": "13302329-348b-4bf9-bb3b-ceb54b1a8b54",
   "metadata": {},
   "outputs": [
    {
     "name": "stdout",
     "output_type": "stream",
     "text": [
      "+--------+-------------+---------------------------+\n",
      "|iso_code|     location|max_total_cases_per_million|\n",
      "+--------+-------------+---------------------------+\n",
      "|     SMR|   San Marino|                    471.448|\n",
      "|     KOR|  South Korea|                    109.637|\n",
      "|     ISL|      Iceland|                      76.19|\n",
      "|     CHN|        China|                      55.85|\n",
      "|     ITA|        Italy|                      51.09|\n",
      "|     IRN|         Iran|                     34.789|\n",
      "|     BHR|      Bahrain|                      30.56|\n",
      "|     LIE|Liechtenstein|                     26.221|\n",
      "|     MCO|       Monaco|                     25.482|\n",
      "|OWID_ASI|         Asia|                     19.354|\n",
      "|     SGP|    Singapore|                     18.802|\n",
      "|     KWT|       Kuwait|                     13.113|\n",
      "|     AND|      Andorra|                     12.942|\n",
      "|OWID_WRL|        World|                     12.223|\n",
      "|     CHE|  Switzerland|                     10.399|\n",
      "+--------+-------------+---------------------------+\n",
      "only showing top 15 rows\n",
      "\n"
     ]
    }
   ],
   "source": [
    "top_15_location  = (\n",
    "    df.select('iso_code', 'location', 'total_cases_per_million').where(f.col('date')=='2020-03-04')\n",
    "      .groupBy('iso_code', 'location')\n",
    "      .agg(f.max('total_cases_per_million').alias('max_total_cases_per_million')).orderBy(f.col('max_total_cases_per_million').desc())\n",
    ")\n",
    "top_15_location.show(15)"
   ]
  },
  {
   "cell_type": "code",
   "execution_count": 63,
   "id": "af981e38-b7b4-4c73-87ce-a6a49245433d",
   "metadata": {},
   "outputs": [
    {
     "name": "stdout",
     "output_type": "stream",
     "text": [
      "+--------------+----------------+--------------+\n",
      "|      location|sum(total_cases)|sum(new_cases)|\n",
      "+--------------+----------------+--------------+\n",
      "|         World|   1.015129809E9|     4690715.0|\n",
      "|        Europe|      3.130306E8|     1729953.0|\n",
      "| North America|    2.78949704E8|      643334.0|\n",
      "| United States|    2.41931173E8|      535260.0|\n",
      "|          Asia|    2.23464588E8|     1271046.0|\n",
      "|European Union|    2.09661006E8|     1390356.0|\n",
      "| South America|    1.65956486E8|      951391.0|\n",
      "|        Brazil|     9.9950115E7|      618728.0|\n",
      "|         India|     9.6021219E7|      487607.0|\n",
      "|        France|     3.6591914E7|      331461.0|\n",
      "+--------------+----------------+--------------+\n",
      "only showing top 10 rows\n",
      "\n"
     ]
    }
   ],
   "source": [
    "top_10_locatio = (\n",
    "    df.select('total_cases','new_cases','location').where(f.col('date').between('2021-03-24','2021-03-31')).groupBy('location').agg(f.sum('total_cases'),f.sum('new_cases')).orderBy(f.sum('total_cases').desc())\n",
    "    )\n",
    "top_10_locatio.show(10)"
   ]
  },
  {
   "cell_type": "code",
   "execution_count": 123,
   "id": "eb42241f-b115-4a2b-8c53-d5a07750fd5b",
   "metadata": {},
   "outputs": [
    {
     "name": "stdout",
     "output_type": "stream",
     "text": [
      "+-----------+---------+-------------------+-----------------+\n",
      "|total_cases|new_cases|new_cases_1_day_ago|sum_delta_vs_prev|\n",
      "+-----------+---------+-------------------+-----------------+\n",
      "|  4433364.0|   8769.0|             8369.0|            400.0|\n",
      "|  4442492.0|   9128.0|             8769.0|            359.0|\n",
      "|  4451565.0|   9073.0|             9128.0|            -55.0|\n",
      "|  4460348.0|   8783.0|             9073.0|           -290.0|\n",
      "|  4469327.0|   8979.0|             8783.0|            196.0|\n",
      "|  4477916.0|   8589.0|             8979.0|           -390.0|\n",
      "|  4486078.0|   8162.0|             8589.0|           -427.0|\n",
      "|  4494234.0|   8156.0|             8162.0|             -6.0|\n",
      "+-----------+---------+-------------------+-----------------+\n",
      "\n"
     ]
    }
   ],
   "source": [
    "rf = (\n",
    "    df2.select(\n",
    "        'location',\n",
    "        'date',\n",
    "        \"total_cases\",\n",
    "        'new_cases',\n",
    "        f.lag('new_cases', 1).over(Window.partitionBy('location').orderBy('date')).alias('new_cases_1_day_ago')\n",
    "    )\n",
    "    .where(f.col('location') == 'Russia').where(f.col('date').between('2021-03-24','2021-03-31'))\n",
    "    .groupBy('location','date')\n",
    "    .agg(\n",
    "        f.sum('total_cases').alias('total_cases'),\n",
    "        f.sum('new_cases').alias('new_cases'),\n",
    "        f.sum('new_cases_1_day_ago').alias('new_cases_1_day_ago'),\n",
    "        f.sum( (f.col('new_cases') - f.col('new_cases_1_day_ago')).cast('double') ).alias(\"sum_delta_vs_prev\")\n",
    "    )\n",
    ")\n",
    "\n",
    "rf.select('total_cases','new_cases','new_cases_1_day_ago','sum_delta_vs_prev').show()\n"
   ]
  },
  {
   "cell_type": "code",
   "execution_count": null,
   "id": "7cc1a602-6142-4995-9fb6-a6b798dabbed",
   "metadata": {},
   "outputs": [],
   "source": []
  }
 ],
 "metadata": {
  "kernelspec": {
   "display_name": "Python 3 (ipykernel)",
   "language": "python",
   "name": "python3"
  },
  "language_info": {
   "codemirror_mode": {
    "name": "ipython",
    "version": 3
   },
   "file_extension": ".py",
   "mimetype": "text/x-python",
   "name": "python",
   "nbconvert_exporter": "python",
   "pygments_lexer": "ipython3",
   "version": "3.11.6"
  }
 },
 "nbformat": 4,
 "nbformat_minor": 5
}
